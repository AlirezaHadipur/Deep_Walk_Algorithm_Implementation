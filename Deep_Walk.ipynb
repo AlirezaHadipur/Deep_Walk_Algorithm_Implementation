{
  "nbformat": 4,
  "nbformat_minor": 0,
  "metadata": {
    "colab": {
      "provenance": []
    },
    "kernelspec": {
      "name": "python3",
      "display_name": "Python 3"
    },
    "language_info": {
      "name": "python"
    }
  },
  "cells": [
    {
      "cell_type": "markdown",
      "source": [
        "# Table Of Contents"
      ],
      "metadata": {
        "id": "wkXqdH6-KKaG"
      }
    },
    {
      "cell_type": "markdown",
      "source": [
        ">[Import Libraries](#scrollTo=jgApzKMAXHwA)\n",
        "\n",
        ">[Dataset](#scrollTo=3ySjKHM-XGLv)\n",
        "\n",
        ">[Building Graph](#scrollTo=e0rGfNNHXyaz)\n",
        "\n",
        ">[Random Walk](#scrollTo=q6hckxl9X9EJ)\n",
        "\n",
        ">[Sequence Generation](#scrollTo=PMnIICChYAo3)\n",
        "\n",
        ">[Train Skip Gram](#scrollTo=614yqGgmYF_F)\n",
        "\n",
        ">[Compute Similarity](#scrollTo=wXgGN2LLYNNs)\n",
        "\n",
        ">[Test the result](#scrollTo=aNe4MHx3YP8T)\n",
        "\n"
      ],
      "metadata": {
        "colab_type": "toc",
        "id": "urjL_24dXVgz"
      }
    },
    {
      "cell_type": "markdown",
      "source": [
        "# Import Libraries"
      ],
      "metadata": {
        "id": "jgApzKMAXHwA"
      }
    },
    {
      "cell_type": "code",
      "source": [
        "import numpy as np\n",
        "import pandas as pd\n",
        "import random\n",
        "import matplotlib.pyplot as plt\n",
        "import warnings\n",
        "from tqdm import tqdm\n",
        "from sklearn.decomposition import PCA\n",
        "import networkx as nx\n",
        "from gensim.models import Word2Vec"
      ],
      "metadata": {
        "id": "gxYSa_FPXGuc"
      },
      "execution_count": null,
      "outputs": []
    },
    {
      "cell_type": "markdown",
      "source": [
        "# Web pages:"
      ],
      "metadata": {
        "id": "udySFg4HFPj2"
      }
    },
    {
      "cell_type": "markdown",
      "source": [
        "1) https://en.wikipedia.org/wiki/University_of_Isfahan"
      ],
      "metadata": {
        "id": "rJDdzf64FTDe"
      }
    },
    {
      "cell_type": "markdown",
      "source": [
        "2) https://en.wikipedia.org/wiki/Isfahan"
      ],
      "metadata": {
        "id": "LnhEh1TgFZ6l"
      }
    },
    {
      "cell_type": "markdown",
      "source": [
        "3) https://en.wikipedia.org/wiki/List_of_universities_in_Iran"
      ],
      "metadata": {
        "id": "G_lmGlfkFhYt"
      }
    },
    {
      "cell_type": "markdown",
      "source": [
        "4) https://en.wikipedia.org/wiki/Isfahan_University_of_Technology"
      ],
      "metadata": {
        "id": "Rl4ZNHVNF2NN"
      }
    },
    {
      "cell_type": "markdown",
      "source": [
        "# Dataset"
      ],
      "metadata": {
        "id": "3ySjKHM-XGLv"
      }
    },
    {
      "cell_type": "code",
      "execution_count": null,
      "metadata": {
        "id": "Dk87UKz0XFCn",
        "colab": {
          "base_uri": "https://localhost:8080/",
          "height": 424
        },
        "outputId": "823bba23-6080-4594-a988-273e84576fb3"
      },
      "outputs": [
        {
          "output_type": "execute_result",
          "data": {
            "text/plain": [
              "                            source  \\\n",
              "0            university of isfahan   \n",
              "1            university of isfahan   \n",
              "2            university of isfahan   \n",
              "3            university of isfahan   \n",
              "4     list of universities in iran   \n",
              "...                            ...   \n",
              "1940               science in iran   \n",
              "1941               science in iran   \n",
              "1942               science in iran   \n",
              "1943               science in iran   \n",
              "1944               science in iran   \n",
              "\n",
              "                                                 target  depth  \n",
              "0                              higher education in iran      1  \n",
              "1                      isfahan university of technology      1  \n",
              "2                isfahan university of medical sciences      1  \n",
              "3     mohajer technical and vocational college of is...      1  \n",
              "4                   goftegoo higher education institute      1  \n",
              "...                                                 ...    ...  \n",
              "1940                               iranian space agency      4  \n",
              "1941                       iranian chemists association      4  \n",
              "1942                       the physical society of iran      4  \n",
              "1943  iranian research organization for science and ...      4  \n",
              "1944                   iran national science foundation      4  \n",
              "\n",
              "[1945 rows x 3 columns]"
            ],
            "text/html": [
              "\n",
              "  <div id=\"df-977018a5-1eb9-40ad-8a6f-0a8992f71e97\" class=\"colab-df-container\">\n",
              "    <div>\n",
              "<style scoped>\n",
              "    .dataframe tbody tr th:only-of-type {\n",
              "        vertical-align: middle;\n",
              "    }\n",
              "\n",
              "    .dataframe tbody tr th {\n",
              "        vertical-align: top;\n",
              "    }\n",
              "\n",
              "    .dataframe thead th {\n",
              "        text-align: right;\n",
              "    }\n",
              "</style>\n",
              "<table border=\"1\" class=\"dataframe\">\n",
              "  <thead>\n",
              "    <tr style=\"text-align: right;\">\n",
              "      <th></th>\n",
              "      <th>source</th>\n",
              "      <th>target</th>\n",
              "      <th>depth</th>\n",
              "    </tr>\n",
              "  </thead>\n",
              "  <tbody>\n",
              "    <tr>\n",
              "      <th>0</th>\n",
              "      <td>university of isfahan</td>\n",
              "      <td>higher education in iran</td>\n",
              "      <td>1</td>\n",
              "    </tr>\n",
              "    <tr>\n",
              "      <th>1</th>\n",
              "      <td>university of isfahan</td>\n",
              "      <td>isfahan university of technology</td>\n",
              "      <td>1</td>\n",
              "    </tr>\n",
              "    <tr>\n",
              "      <th>2</th>\n",
              "      <td>university of isfahan</td>\n",
              "      <td>isfahan university of medical sciences</td>\n",
              "      <td>1</td>\n",
              "    </tr>\n",
              "    <tr>\n",
              "      <th>3</th>\n",
              "      <td>university of isfahan</td>\n",
              "      <td>mohajer technical and vocational college of is...</td>\n",
              "      <td>1</td>\n",
              "    </tr>\n",
              "    <tr>\n",
              "      <th>4</th>\n",
              "      <td>list of universities in iran</td>\n",
              "      <td>goftegoo higher education institute</td>\n",
              "      <td>1</td>\n",
              "    </tr>\n",
              "    <tr>\n",
              "      <th>...</th>\n",
              "      <td>...</td>\n",
              "      <td>...</td>\n",
              "      <td>...</td>\n",
              "    </tr>\n",
              "    <tr>\n",
              "      <th>1940</th>\n",
              "      <td>science in iran</td>\n",
              "      <td>iranian space agency</td>\n",
              "      <td>4</td>\n",
              "    </tr>\n",
              "    <tr>\n",
              "      <th>1941</th>\n",
              "      <td>science in iran</td>\n",
              "      <td>iranian chemists association</td>\n",
              "      <td>4</td>\n",
              "    </tr>\n",
              "    <tr>\n",
              "      <th>1942</th>\n",
              "      <td>science in iran</td>\n",
              "      <td>the physical society of iran</td>\n",
              "      <td>4</td>\n",
              "    </tr>\n",
              "    <tr>\n",
              "      <th>1943</th>\n",
              "      <td>science in iran</td>\n",
              "      <td>iranian research organization for science and ...</td>\n",
              "      <td>4</td>\n",
              "    </tr>\n",
              "    <tr>\n",
              "      <th>1944</th>\n",
              "      <td>science in iran</td>\n",
              "      <td>iran national science foundation</td>\n",
              "      <td>4</td>\n",
              "    </tr>\n",
              "  </tbody>\n",
              "</table>\n",
              "<p>1945 rows × 3 columns</p>\n",
              "</div>\n",
              "    <div class=\"colab-df-buttons\">\n",
              "\n",
              "  <div class=\"colab-df-container\">\n",
              "    <button class=\"colab-df-convert\" onclick=\"convertToInteractive('df-977018a5-1eb9-40ad-8a6f-0a8992f71e97')\"\n",
              "            title=\"Convert this dataframe to an interactive table.\"\n",
              "            style=\"display:none;\">\n",
              "\n",
              "  <svg xmlns=\"http://www.w3.org/2000/svg\" height=\"24px\" viewBox=\"0 -960 960 960\">\n",
              "    <path d=\"M120-120v-720h720v720H120Zm60-500h600v-160H180v160Zm220 220h160v-160H400v160Zm0 220h160v-160H400v160ZM180-400h160v-160H180v160Zm440 0h160v-160H620v160ZM180-180h160v-160H180v160Zm440 0h160v-160H620v160Z\"/>\n",
              "  </svg>\n",
              "    </button>\n",
              "\n",
              "  <style>\n",
              "    .colab-df-container {\n",
              "      display:flex;\n",
              "      gap: 12px;\n",
              "    }\n",
              "\n",
              "    .colab-df-convert {\n",
              "      background-color: #E8F0FE;\n",
              "      border: none;\n",
              "      border-radius: 50%;\n",
              "      cursor: pointer;\n",
              "      display: none;\n",
              "      fill: #1967D2;\n",
              "      height: 32px;\n",
              "      padding: 0 0 0 0;\n",
              "      width: 32px;\n",
              "    }\n",
              "\n",
              "    .colab-df-convert:hover {\n",
              "      background-color: #E2EBFA;\n",
              "      box-shadow: 0px 1px 2px rgba(60, 64, 67, 0.3), 0px 1px 3px 1px rgba(60, 64, 67, 0.15);\n",
              "      fill: #174EA6;\n",
              "    }\n",
              "\n",
              "    .colab-df-buttons div {\n",
              "      margin-bottom: 4px;\n",
              "    }\n",
              "\n",
              "    [theme=dark] .colab-df-convert {\n",
              "      background-color: #3B4455;\n",
              "      fill: #D2E3FC;\n",
              "    }\n",
              "\n",
              "    [theme=dark] .colab-df-convert:hover {\n",
              "      background-color: #434B5C;\n",
              "      box-shadow: 0px 1px 3px 1px rgba(0, 0, 0, 0.15);\n",
              "      filter: drop-shadow(0px 1px 2px rgba(0, 0, 0, 0.3));\n",
              "      fill: #FFFFFF;\n",
              "    }\n",
              "  </style>\n",
              "\n",
              "    <script>\n",
              "      const buttonEl =\n",
              "        document.querySelector('#df-977018a5-1eb9-40ad-8a6f-0a8992f71e97 button.colab-df-convert');\n",
              "      buttonEl.style.display =\n",
              "        google.colab.kernel.accessAllowed ? 'block' : 'none';\n",
              "\n",
              "      async function convertToInteractive(key) {\n",
              "        const element = document.querySelector('#df-977018a5-1eb9-40ad-8a6f-0a8992f71e97');\n",
              "        const dataTable =\n",
              "          await google.colab.kernel.invokeFunction('convertToInteractive',\n",
              "                                                    [key], {});\n",
              "        if (!dataTable) return;\n",
              "\n",
              "        const docLinkHtml = 'Like what you see? Visit the ' +\n",
              "          '<a target=\"_blank\" href=https://colab.research.google.com/notebooks/data_table.ipynb>data table notebook</a>'\n",
              "          + ' to learn more about interactive tables.';\n",
              "        element.innerHTML = '';\n",
              "        dataTable['output_type'] = 'display_data';\n",
              "        await google.colab.output.renderOutput(dataTable, element);\n",
              "        const docLink = document.createElement('div');\n",
              "        docLink.innerHTML = docLinkHtml;\n",
              "        element.appendChild(docLink);\n",
              "      }\n",
              "    </script>\n",
              "  </div>\n",
              "\n",
              "\n",
              "<div id=\"df-34034bb6-d860-4978-b11b-568e3f4e223e\">\n",
              "  <button class=\"colab-df-quickchart\" onclick=\"quickchart('df-34034bb6-d860-4978-b11b-568e3f4e223e')\"\n",
              "            title=\"Suggest charts\"\n",
              "            style=\"display:none;\">\n",
              "\n",
              "<svg xmlns=\"http://www.w3.org/2000/svg\" height=\"24px\"viewBox=\"0 0 24 24\"\n",
              "     width=\"24px\">\n",
              "    <g>\n",
              "        <path d=\"M19 3H5c-1.1 0-2 .9-2 2v14c0 1.1.9 2 2 2h14c1.1 0 2-.9 2-2V5c0-1.1-.9-2-2-2zM9 17H7v-7h2v7zm4 0h-2V7h2v10zm4 0h-2v-4h2v4z\"/>\n",
              "    </g>\n",
              "</svg>\n",
              "  </button>\n",
              "\n",
              "<style>\n",
              "  .colab-df-quickchart {\n",
              "      --bg-color: #E8F0FE;\n",
              "      --fill-color: #1967D2;\n",
              "      --hover-bg-color: #E2EBFA;\n",
              "      --hover-fill-color: #174EA6;\n",
              "      --disabled-fill-color: #AAA;\n",
              "      --disabled-bg-color: #DDD;\n",
              "  }\n",
              "\n",
              "  [theme=dark] .colab-df-quickchart {\n",
              "      --bg-color: #3B4455;\n",
              "      --fill-color: #D2E3FC;\n",
              "      --hover-bg-color: #434B5C;\n",
              "      --hover-fill-color: #FFFFFF;\n",
              "      --disabled-bg-color: #3B4455;\n",
              "      --disabled-fill-color: #666;\n",
              "  }\n",
              "\n",
              "  .colab-df-quickchart {\n",
              "    background-color: var(--bg-color);\n",
              "    border: none;\n",
              "    border-radius: 50%;\n",
              "    cursor: pointer;\n",
              "    display: none;\n",
              "    fill: var(--fill-color);\n",
              "    height: 32px;\n",
              "    padding: 0;\n",
              "    width: 32px;\n",
              "  }\n",
              "\n",
              "  .colab-df-quickchart:hover {\n",
              "    background-color: var(--hover-bg-color);\n",
              "    box-shadow: 0 1px 2px rgba(60, 64, 67, 0.3), 0 1px 3px 1px rgba(60, 64, 67, 0.15);\n",
              "    fill: var(--button-hover-fill-color);\n",
              "  }\n",
              "\n",
              "  .colab-df-quickchart-complete:disabled,\n",
              "  .colab-df-quickchart-complete:disabled:hover {\n",
              "    background-color: var(--disabled-bg-color);\n",
              "    fill: var(--disabled-fill-color);\n",
              "    box-shadow: none;\n",
              "  }\n",
              "\n",
              "  .colab-df-spinner {\n",
              "    border: 2px solid var(--fill-color);\n",
              "    border-color: transparent;\n",
              "    border-bottom-color: var(--fill-color);\n",
              "    animation:\n",
              "      spin 1s steps(1) infinite;\n",
              "  }\n",
              "\n",
              "  @keyframes spin {\n",
              "    0% {\n",
              "      border-color: transparent;\n",
              "      border-bottom-color: var(--fill-color);\n",
              "      border-left-color: var(--fill-color);\n",
              "    }\n",
              "    20% {\n",
              "      border-color: transparent;\n",
              "      border-left-color: var(--fill-color);\n",
              "      border-top-color: var(--fill-color);\n",
              "    }\n",
              "    30% {\n",
              "      border-color: transparent;\n",
              "      border-left-color: var(--fill-color);\n",
              "      border-top-color: var(--fill-color);\n",
              "      border-right-color: var(--fill-color);\n",
              "    }\n",
              "    40% {\n",
              "      border-color: transparent;\n",
              "      border-right-color: var(--fill-color);\n",
              "      border-top-color: var(--fill-color);\n",
              "    }\n",
              "    60% {\n",
              "      border-color: transparent;\n",
              "      border-right-color: var(--fill-color);\n",
              "    }\n",
              "    80% {\n",
              "      border-color: transparent;\n",
              "      border-right-color: var(--fill-color);\n",
              "      border-bottom-color: var(--fill-color);\n",
              "    }\n",
              "    90% {\n",
              "      border-color: transparent;\n",
              "      border-bottom-color: var(--fill-color);\n",
              "    }\n",
              "  }\n",
              "</style>\n",
              "\n",
              "  <script>\n",
              "    async function quickchart(key) {\n",
              "      const quickchartButtonEl =\n",
              "        document.querySelector('#' + key + ' button');\n",
              "      quickchartButtonEl.disabled = true;  // To prevent multiple clicks.\n",
              "      quickchartButtonEl.classList.add('colab-df-spinner');\n",
              "      try {\n",
              "        const charts = await google.colab.kernel.invokeFunction(\n",
              "            'suggestCharts', [key], {});\n",
              "      } catch (error) {\n",
              "        console.error('Error during call to suggestCharts:', error);\n",
              "      }\n",
              "      quickchartButtonEl.classList.remove('colab-df-spinner');\n",
              "      quickchartButtonEl.classList.add('colab-df-quickchart-complete');\n",
              "    }\n",
              "    (() => {\n",
              "      let quickchartButtonEl =\n",
              "        document.querySelector('#df-34034bb6-d860-4978-b11b-568e3f4e223e button');\n",
              "      quickchartButtonEl.style.display =\n",
              "        google.colab.kernel.accessAllowed ? 'block' : 'none';\n",
              "    })();\n",
              "  </script>\n",
              "</div>\n",
              "    </div>\n",
              "  </div>\n"
            ],
            "application/vnd.google.colaboratory.intrinsic+json": {
              "type": "dataframe",
              "variable_name": "dataframe",
              "summary": "{\n  \"name\": \"dataframe\",\n  \"rows\": 1945,\n  \"fields\": [\n    {\n      \"column\": \"source\",\n      \"properties\": {\n        \"dtype\": \"category\",\n        \"num_unique_values\": 285,\n        \"samples\": [\n          \"armenian catholic eparchy of isfahan\",\n          \"base isolation\",\n          \"women in the iranian constitutional revolution\"\n        ],\n        \"semantic_type\": \"\",\n        \"description\": \"\"\n      }\n    },\n    {\n      \"column\": \"target\",\n      \"properties\": {\n        \"dtype\": \"string\",\n        \"num_unique_values\": 1206,\n        \"samples\": [\n          \"koreans in iran\",\n          \"science in the medieval islamic world\",\n          \"behesht-e zahra\"\n        ],\n        \"semantic_type\": \"\",\n        \"description\": \"\"\n      }\n    },\n    {\n      \"column\": \"depth\",\n      \"properties\": {\n        \"dtype\": \"number\",\n        \"std\": 0,\n        \"min\": 1,\n        \"max\": 4,\n        \"num_unique_values\": 4,\n        \"samples\": [\n          2,\n          4,\n          1\n        ],\n        \"semantic_type\": \"\",\n        \"description\": \"\"\n      }\n    }\n  ]\n}"
            }
          },
          "metadata": {},
          "execution_count": 2
        }
      ],
      "source": [
        "dataframe = pd.read_csv(\"/content/drive/MyDrive/Colab Notebooks/Thesis/Isfahan_Dataset.tsv\", sep='\\t')\n",
        "dataframe"
      ]
    },
    {
      "cell_type": "code",
      "source": [
        "print(f\"Dataframe shape is: {dataframe.shape}\")"
      ],
      "metadata": {
        "colab": {
          "base_uri": "https://localhost:8080/"
        },
        "id": "FtDm__H7jiav",
        "outputId": "b86d2687-ad09-4a88-81a5-9668fef6ed87"
      },
      "execution_count": null,
      "outputs": [
        {
          "output_type": "stream",
          "name": "stdout",
          "text": [
            "Dataframe shape is: (1945, 3)\n"
          ]
        }
      ]
    },
    {
      "cell_type": "markdown",
      "source": [
        "# Building Graph"
      ],
      "metadata": {
        "id": "e0rGfNNHXyaz"
      }
    },
    {
      "cell_type": "code",
      "source": [
        "Graph = nx.from_pandas_edgelist(dataframe, \"source\", \"target\", edge_attr=True, create_using=nx.Graph())\n",
        "print(len(Graph))"
      ],
      "metadata": {
        "id": "k7LqosYmX0wU",
        "colab": {
          "base_uri": "https://localhost:8080/"
        },
        "outputId": "b1bac965-01bf-463f-cd84-5e207eaeb286"
      },
      "execution_count": null,
      "outputs": [
        {
          "output_type": "stream",
          "name": "stdout",
          "text": [
            "1207\n"
          ]
        }
      ]
    },
    {
      "cell_type": "markdown",
      "source": [
        "# Random Walk"
      ],
      "metadata": {
        "id": "q6hckxl9X9EJ"
      }
    },
    {
      "cell_type": "code",
      "source": [
        "def random_walk(node, depth):\n",
        "\n",
        "    rw = [node]\n",
        "\n",
        "    for i in range(depth-1):\n",
        "        hold = list(Graph.neighbors(node))\n",
        "\n",
        "        if len(hold) == 0:\n",
        "            break\n",
        "\n",
        "        random_node = random.choice(hold)\n",
        "        rw.append(random_node)\n",
        "        node = random_node\n",
        "\n",
        "    return rw"
      ],
      "metadata": {
        "id": "9jgVqJ06X-Sz"
      },
      "execution_count": null,
      "outputs": []
    },
    {
      "cell_type": "code",
      "source": [
        "random_walk(\"university of isfahan\", 10)"
      ],
      "metadata": {
        "colab": {
          "base_uri": "https://localhost:8080/"
        },
        "id": "qtUQpCjPmlIr",
        "outputId": "73140770-30fc-4854-91fb-ee34e902d122"
      },
      "execution_count": null,
      "outputs": [
        {
          "output_type": "execute_result",
          "data": {
            "text/plain": [
              "['university of isfahan',\n",
              " 'mohajer technical and vocational college of isfahan',\n",
              " 'university of isfahan',\n",
              " 'higher education in iran',\n",
              " 'the physical society of iran',\n",
              " 'institute of biochemistry and biophysics',\n",
              " 'the physical society of iran',\n",
              " 'higher education in iran',\n",
              " 'nizamiyyah',\n",
              " 'modern iranian scientists and engineers']"
            ]
          },
          "metadata": {},
          "execution_count": 6
        }
      ]
    },
    {
      "cell_type": "markdown",
      "source": [
        "# Sequence Generation"
      ],
      "metadata": {
        "id": "PMnIICChYAo3"
      }
    },
    {
      "cell_type": "code",
      "source": [
        "all_nodes = list(Graph.nodes())\n",
        "\n",
        "temp_random_walks = []\n",
        "for n in tqdm(all_nodes):\n",
        "    for i in range(30):\n",
        "        temp_random_walks.append(random_walk(n,10))\n"
      ],
      "metadata": {
        "id": "M8w3XUKiYFag",
        "colab": {
          "base_uri": "https://localhost:8080/"
        },
        "outputId": "4cb8e9b6-5ceb-4a3e-ed9d-88392e8218df"
      },
      "execution_count": null,
      "outputs": [
        {
          "output_type": "stream",
          "name": "stderr",
          "text": [
            "100%|██████████| 1207/1207 [00:01<00:00, 774.24it/s] \n"
          ]
        }
      ]
    },
    {
      "cell_type": "code",
      "source": [
        "len(temp_random_walks)"
      ],
      "metadata": {
        "colab": {
          "base_uri": "https://localhost:8080/"
        },
        "id": "mztS159_nC_0",
        "outputId": "aca66d0b-cc07-497b-9408-ec3b56ac4eac"
      },
      "execution_count": null,
      "outputs": [
        {
          "output_type": "execute_result",
          "data": {
            "text/plain": [
              "36210"
            ]
          },
          "metadata": {},
          "execution_count": 8
        }
      ]
    },
    {
      "cell_type": "markdown",
      "source": [
        "# Train Skip Gram"
      ],
      "metadata": {
        "id": "614yqGgmYF_F"
      }
    },
    {
      "cell_type": "code",
      "source": [
        "model = Word2Vec(window = 10, sg = 1, hs = 1, negative = 15, alpha=0.03, min_alpha=0.0007, seed = 42)"
      ],
      "metadata": {
        "id": "EKKwiLQlYKc6"
      },
      "execution_count": null,
      "outputs": []
    },
    {
      "cell_type": "code",
      "source": [
        "model.build_vocab(temp_random_walks, progress_per=2)\n",
        "\n",
        "model.train(temp_random_walks, total_examples = model.corpus_count, epochs=100, report_delay=1)"
      ],
      "metadata": {
        "id": "8r6KVnYGnQnt",
        "colab": {
          "base_uri": "https://localhost:8080/"
        },
        "outputId": "5e88b7a9-d753-4c7c-9305-139568c13a02"
      },
      "execution_count": null,
      "outputs": [
        {
          "output_type": "execute_result",
          "data": {
            "text/plain": [
              "(31834623, 36210000)"
            ]
          },
          "metadata": {},
          "execution_count": 10
        }
      ]
    },
    {
      "cell_type": "markdown",
      "source": [
        "# Compute Similarity"
      ],
      "metadata": {
        "id": "wXgGN2LLYNNs"
      }
    },
    {
      "cell_type": "code",
      "source": [
        "model.wv.most_similar('modern iranian scientists and engineers', topn=10)"
      ],
      "metadata": {
        "id": "o85CIbQkYPLx",
        "colab": {
          "base_uri": "https://localhost:8080/"
        },
        "outputId": "2cd4ba5a-d669-463c-9cae-5530cabc2abc"
      },
      "execution_count": null,
      "outputs": [
        {
          "output_type": "execute_result",
          "data": {
            "text/plain": [
              "[('nizamiyyah', 0.6176280975341797),\n",
              " ('brain drain in iran', 0.6154008507728577),\n",
              " ('nezamiyeh', 0.5707276463508606),\n",
              " ('higher education in iran', 0.5636276602745056),\n",
              " ('sarouyeh', 0.5393324494361877),\n",
              " ('dar ul-funun (persia)', 0.5360218286514282),\n",
              " ('academy of gundishapur', 0.5276812314987183),\n",
              " ('nizamiyya', 0.5173935890197754),\n",
              " ('danesh (science magazine)', 0.5000202655792236),\n",
              " ('science and technology in iran', 0.49875718355178833)]"
            ]
          },
          "metadata": {},
          "execution_count": 11
        }
      ]
    },
    {
      "cell_type": "code",
      "source": [
        "model.wv.most_similar('isfahan university of medical sciences', topn=10)"
      ],
      "metadata": {
        "colab": {
          "base_uri": "https://localhost:8080/"
        },
        "id": "lwqUABVdI_Ym",
        "outputId": "ad0c58c7-d7ac-4540-cd7d-b5c4a904cf05"
      },
      "execution_count": null,
      "outputs": [
        {
          "output_type": "execute_result",
          "data": {
            "text/plain": [
              "[('ministry of health and medical education', 0.6330662369728088),\n",
              " ('university of isfahan', 0.6000102758407593),\n",
              " ('health care in iran', 0.5834171175956726),\n",
              " ('education in iran', 0.5820842981338501),\n",
              " ('higher education in iran', 0.5677030682563782),\n",
              " ('modern iranian scientists, scholars, and engineers', 0.552821934223175),\n",
              " ('international rankings of iran', 0.5203481912612915),\n",
              " ('science and technology in iran', 0.5131669640541077),\n",
              " ('economy of iran', 0.5079165101051331),\n",
              " ('science in iran', 0.4973375201225281)]"
            ]
          },
          "metadata": {},
          "execution_count": 12
        }
      ]
    },
    {
      "cell_type": "code",
      "source": [
        "model.wv.most_similar('higher education in iran', topn=10)"
      ],
      "metadata": {
        "id": "1y10MEuYYSY3",
        "colab": {
          "base_uri": "https://localhost:8080/"
        },
        "outputId": "1b6a00a8-b93e-48c2-d5c0-bb6e36324b06"
      },
      "execution_count": null,
      "outputs": [
        {
          "output_type": "execute_result",
          "data": {
            "text/plain": [
              "[('university of isfahan', 0.6761839389801025),\n",
              " ('isfahan university of technology', 0.6401380300521851),\n",
              " ('mohajer technical and vocational college of isfahan', 0.6238824725151062),\n",
              " ('science and technology in iran', 0.6217913031578064),\n",
              " ('the physical society of iran', 0.5866025686264038),\n",
              " ('school of economic affairs (iran)', 0.5803654193878174),\n",
              " ('academy of gundishapur', 0.5740300416946411),\n",
              " ('isfahan university of medical sciences', 0.5677030682563782),\n",
              " ('modern iranian scientists and engineers', 0.5636277198791504),\n",
              " ('international rankings of iran', 0.5620898008346558)]"
            ]
          },
          "metadata": {},
          "execution_count": 13
        }
      ]
    },
    {
      "cell_type": "markdown",
      "source": [
        "# Test the result"
      ],
      "metadata": {
        "id": "aNe4MHx3YP8T"
      }
    },
    {
      "cell_type": "code",
      "source": [
        "def scatter_plot(temp_list):\n",
        "  output = model.wv[temp_list]\n",
        "\n",
        "  # Use PCA for Dimension Reduction\n",
        "  pca = PCA(n_components=2)\n",
        "  result = pca.fit_transform(output)\n",
        "\n",
        "\n",
        "\n",
        "  plt.figure(figsize=(10, 10))\n",
        "  plt.scatter(result[:, 0], result[:, 1], color='red')\n",
        "\n",
        "  for i, word in enumerate(temp_list):\n",
        "      plt.annotate(word, xy=(result[i, 0], result[i, 1]))\n",
        "\n",
        "  plt.show()"
      ],
      "metadata": {
        "id": "u7egnQO4TW2S"
      },
      "execution_count": null,
      "outputs": []
    },
    {
      "cell_type": "code",
      "source": [
        "temp = ['modern iranian scientists and engineers', 'brain drain in iran', 'baku state university',\n",
        "        'isfahan university of medical sciences', 'ministry of health and medical education', 'university of isfahan',\n",
        "        'imperial iranian academy of philosophy', 'higher education in iran', 'mohajer technical and vocational college of isfahan']\n",
        "\n",
        "\n",
        "scatter_plot(temp)"
      ],
      "metadata": {
        "colab": {
          "base_uri": "https://localhost:8080/",
          "height": 830
        },
        "id": "ytE7SMr-UC7F",
        "outputId": "911a7cfa-163f-42a2-fda1-d488287653b3"
      },
      "execution_count": null,
      "outputs": [
        {
          "output_type": "display_data",
          "data": {
            "text/plain": [
              "<Figure size 1000x1000 with 1 Axes>"
            ],
            "image/png": "[encoded data removed]"
          },
          "metadata": {}
        }
      ]
    },
    {
      "cell_type": "code",
      "source": [],
      "metadata": {
        "id": "47fbjpqaUseV"
      },
      "execution_count": null,
      "outputs": []
    }
  ]
}